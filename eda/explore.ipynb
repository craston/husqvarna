{
 "cells": [
  {
   "cell_type": "code",
   "execution_count": 9,
   "metadata": {},
   "outputs": [],
   "source": [
    "import ydata_profiling\n",
    "import pandas as pd\n",
    "from pathlib import Path\n",
    "import os"
   ]
  },
  {
   "cell_type": "code",
   "execution_count": 10,
   "metadata": {},
   "outputs": [],
   "source": [
    "DATA_PATH = Path(\"/workspaces/husqvarna/data/dataset.csv\")\n",
    "REPORT_PATH = Path(\"/workspaces/husqvarna/data/report.html\")"
   ]
  },
  {
   "cell_type": "code",
   "execution_count": 13,
   "metadata": {},
   "outputs": [],
   "source": [
    "df = pd.read_csv(DATA_PATH, sep=';')"
   ]
  },
  {
   "cell_type": "code",
   "execution_count": 14,
   "metadata": {},
   "outputs": [
    {
     "name": "stderr",
     "output_type": "stream",
     "text": [
      "Summarize dataset: 100%|██████████| 102/102 [00:09<00:00, 11.20it/s, Completed]                 \n",
      "Generate report structure: 100%|██████████| 1/1 [00:02<00:00,  2.95s/it]\n",
      "Render HTML: 100%|██████████| 1/1 [00:01<00:00,  1.66s/it]\n",
      "Export report to file: 100%|██████████| 1/1 [00:00<00:00, 68.25it/s]\n"
     ]
    }
   ],
   "source": [
    "profile = ydata_profiling.ProfileReport(df)\n",
    "\n",
    "os.makedirs(REPORT_PATH.parent, exist_ok=True)\n",
    "profile.to_file(REPORT_PATH)"
   ]
  }
 ],
 "metadata": {
  "kernelspec": {
   "display_name": "Python 3",
   "language": "python",
   "name": "python3"
  },
  "language_info": {
   "codemirror_mode": {
    "name": "ipython",
    "version": 3
   },
   "file_extension": ".py",
   "mimetype": "text/x-python",
   "name": "python",
   "nbconvert_exporter": "python",
   "pygments_lexer": "ipython3",
   "version": "3.12.9"
  }
 },
 "nbformat": 4,
 "nbformat_minor": 2
}
